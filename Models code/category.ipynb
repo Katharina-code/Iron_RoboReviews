{
 "cells": [
  {
   "cell_type": "code",
   "execution_count": 33,
   "id": "16d15ce7-f863-4cee-9e94-140942ee6f7b",
   "metadata": {
    "execution": {
     "iopub.execute_input": "2024-10-16T05:49:30.904079Z",
     "iopub.status.busy": "2024-10-16T05:49:30.903188Z",
     "iopub.status.idle": "2024-10-16T05:49:30.911253Z",
     "shell.execute_reply": "2024-10-16T05:49:30.909897Z",
     "shell.execute_reply.started": "2024-10-16T05:49:30.904028Z"
    }
   },
   "outputs": [],
   "source": [
    "# Import necessary libraries\n",
    "import transformers\n",
    "import datasets\n",
    "import pandas as pd\n",
    "import pickle\n",
    "import torch\n",
    "import matplotlib.pyplot as plt\n",
    "from transformers import AutoTokenizer, AutoModel, AutoConfig, Trainer, TrainingArguments, DebertaV2Tokenizer, TrainerCallback\n",
    "from datasets import Dataset as HuggingFaceDataset\n",
    "from torch import nn\n",
    "from torch.nn import CrossEntropyLoss\n",
    "from huggingface_hub import PyTorchModelHubMixin\n",
    "from sklearn.metrics import accuracy_score, f1_score, precision_score, recall_score, confusion_matrix, ConfusionMatrixDisplay\n",
    "from sklearn.preprocessing import LabelEncoder\n",
    "from sklearn.model_selection import train_test_split\n",
    "from torch.utils.data import Dataset, DataLoader\n",
    "from transformers.modeling_outputs import SequenceClassifierOutput\n",
    "import matplotlib.pyplot as plt\n",
    "import numpy as np"
   ]
  },
  {
   "cell_type": "code",
   "execution_count": 2,
   "id": "9e87f18b-50d7-477e-8cf7-e309e40d9ae1",
   "metadata": {
    "execution": {
     "iopub.execute_input": "2024-10-16T05:49:33.069666Z",
     "iopub.status.busy": "2024-10-16T05:49:33.068646Z",
     "iopub.status.idle": "2024-10-16T05:49:39.752209Z",
     "shell.execute_reply": "2024-10-16T05:49:39.751254Z",
     "shell.execute_reply.started": "2024-10-16T05:49:33.069624Z"
    }
   },
   "outputs": [],
   "source": [
    "# Load meta data from the pickle file created in \"sentiment\"\n",
    "reviews_df = pd.read_pickle(\"./Saved datasets/reviews.pkl\")\n",
    "meta_df = pd.read_pickle(\"./Saved datasets/meta.pkl\")"
   ]
  },
  {
   "cell_type": "code",
   "execution_count": 3,
   "id": "af2ddbfd-ac79-460e-9943-8d8695b2fead",
   "metadata": {
    "execution": {
     "iopub.execute_input": "2024-10-16T05:49:40.683133Z",
     "iopub.status.busy": "2024-10-16T05:49:40.682699Z",
     "iopub.status.idle": "2024-10-16T05:49:40.689765Z",
     "shell.execute_reply": "2024-10-16T05:49:40.688584Z",
     "shell.execute_reply.started": "2024-10-16T05:49:40.683098Z"
    }
   },
   "outputs": [
    {
     "name": "stdout",
     "output_type": "stream",
     "text": [
      "Shape reviews: (2128605, 4)\n",
      "Shape meta: (94327, 12)\n"
     ]
    }
   ],
   "source": [
    "# Inspect dataframe shapes\n",
    "print(f\"Shape reviews: {reviews_df.shape}\")\n",
    "print(f\"Shape meta: {meta_df.shape}\")"
   ]
  },
  {
   "cell_type": "code",
   "execution_count": 5,
   "id": "47e10dab-7aa5-4af0-99f6-91e2089a694e",
   "metadata": {
    "execution": {
     "iopub.execute_input": "2024-10-16T05:49:45.852635Z",
     "iopub.status.busy": "2024-10-16T05:49:45.851891Z",
     "iopub.status.idle": "2024-10-16T05:49:45.858893Z",
     "shell.execute_reply": "2024-10-16T05:49:45.857700Z",
     "shell.execute_reply.started": "2024-10-16T05:49:45.852599Z"
    }
   },
   "outputs": [
    {
     "name": "stdout",
     "output_type": "stream",
     "text": [
      "Reviews columns: Index(['rating', 'title', 'text', 'parent_asin'], dtype='object')\n",
      "Meta columns: Index(['main_category', 'title', 'average_rating', 'rating_number', 'features',\n",
      "       'description', 'price', 'categories', 'details', 'parent_asin',\n",
      "       'bought_together', 'subtitle'],\n",
      "      dtype='object')\n"
     ]
    }
   ],
   "source": [
    "# View column names of both datasets\n",
    "print(f\"Reviews columns: {reviews_df.columns}\")\n",
    "print(f\"Meta columns: {meta_df.columns}\")"
   ]
  },
  {
   "cell_type": "code",
   "execution_count": 4,
   "id": "1e31b3cf-8b37-4da6-ade8-5db33d732939",
   "metadata": {
    "execution": {
     "iopub.execute_input": "2024-10-16T05:50:04.527562Z",
     "iopub.status.busy": "2024-10-16T05:50:04.526378Z",
     "iopub.status.idle": "2024-10-16T05:50:04.541645Z",
     "shell.execute_reply": "2024-10-16T05:50:04.540668Z",
     "shell.execute_reply.started": "2024-10-16T05:50:04.527517Z"
    }
   },
   "outputs": [],
   "source": [
    "# Drop columns not needed for the categorisation\n",
    "# Review data not needed for categorisation model\n",
    "\n",
    "meta_clean = meta_df.drop(columns = [\n",
    "    \"average_rating\", \n",
    "    \"rating_number\",\n",
    "    \"features\",\n",
    "    \"description\",\n",
    "    \"price\",   \n",
    "    \"details\",\n",
    "    \"bought_together\",\n",
    "    \"subtitle\" # mainly \"none\" \n",
    "    ]) "
   ]
  },
  {
   "cell_type": "code",
   "execution_count": 13,
   "id": "1ca300ba-a0f7-4fd9-9e59-f8572ab361af",
   "metadata": {
    "execution": {
     "iopub.execute_input": "2024-10-16T05:50:08.251144Z",
     "iopub.status.busy": "2024-10-16T05:50:08.250719Z",
     "iopub.status.idle": "2024-10-16T05:50:08.256567Z",
     "shell.execute_reply": "2024-10-16T05:50:08.255290Z",
     "shell.execute_reply.started": "2024-10-16T05:50:08.251108Z"
    }
   },
   "outputs": [
    {
     "name": "stdout",
     "output_type": "stream",
     "text": [
      "Meta columns: Index(['main_category', 'title', 'categories', 'parent_asin'], dtype='object')\n"
     ]
    }
   ],
   "source": [
    "# View column names left in dataset\n",
    "print(f\"Meta columns: {meta_clean.columns}\")"
   ]
  },
  {
   "cell_type": "code",
   "execution_count": 6,
   "id": "be26c3ba-040c-4013-967b-a4c14306568e",
   "metadata": {
    "execution": {
     "iopub.execute_input": "2024-10-16T05:50:12.818833Z",
     "iopub.status.busy": "2024-10-16T05:50:12.818345Z",
     "iopub.status.idle": "2024-10-16T05:50:12.826003Z",
     "shell.execute_reply": "2024-10-16T05:50:12.824626Z",
     "shell.execute_reply.started": "2024-10-16T05:50:12.818794Z"
    }
   },
   "outputs": [
    {
     "name": "stdout",
     "output_type": "stream",
     "text": [
      "Shape meta: (94327, 4)\n"
     ]
    }
   ],
   "source": [
    "# Inspect shape after dropping columns\n",
    "print(f\"Shape meta: {meta_clean.shape}\")"
   ]
  },
  {
   "cell_type": "code",
   "execution_count": 5,
   "id": "8bf4b0ff-80ba-4f99-a3af-14b78b76045c",
   "metadata": {
    "execution": {
     "iopub.execute_input": "2024-10-15T15:12:59.930259Z",
     "iopub.status.busy": "2024-10-15T15:12:59.929436Z",
     "iopub.status.idle": "2024-10-15T15:12:59.940360Z",
     "shell.execute_reply": "2024-10-15T15:12:59.939219Z",
     "shell.execute_reply.started": "2024-10-15T15:12:59.930220Z"
    }
   },
   "outputs": [
    {
     "name": "stdout",
     "output_type": "stream",
     "text": [
      "['Industrial & Scientific' 'Tools & Home Improvement' 'Appliances'\n",
      " 'Amazon Home' 'Computers' 'AMAZON FASHION' None 'Sports & Outdoors'\n",
      " 'Automotive' 'Health & Personal Care' 'Camera & Photo'\n",
      " 'Arts, Crafts & Sewing' 'All Electronics' 'Cell Phones & Accessories'\n",
      " 'Baby' 'Musical Instruments' 'All Beauty' 'Grocery' 'Pet Supplies'\n",
      " 'Office Products' 'Toys & Games' 'Home Audio & Theater'\n",
      " 'GPS & Navigation' 'Premium Beauty' 'Video Games'\n",
      " 'Portable Audio & Accessories' 'Software' 'Books' 'Digital Music'\n",
      " 'Car Electronics' 'Movies & TV']\n"
     ]
    }
   ],
   "source": [
    "# Inspect unique values from \"main_category\"\n",
    "unique_values = meta_clean[\"main_category\"].unique()\n",
    "\n",
    "print(unique_values)"
   ]
  },
  {
   "cell_type": "code",
   "execution_count": 25,
   "id": "14e8c0f5-d8ec-4c56-9580-da1ff1bcd484",
   "metadata": {
    "execution": {
     "iopub.execute_input": "2024-10-15T15:18:32.215470Z",
     "iopub.status.busy": "2024-10-15T15:18:32.214435Z",
     "iopub.status.idle": "2024-10-15T15:18:32.223828Z",
     "shell.execute_reply": "2024-10-15T15:18:32.222858Z",
     "shell.execute_reply.started": "2024-10-15T15:18:32.215444Z"
    }
   },
   "outputs": [
    {
     "name": "stdout",
     "output_type": "stream",
     "text": [
      "<bound method NDFrame.head of                   main_category  \\\n",
      "0       Industrial & Scientific   \n",
      "1      Tools & Home Improvement   \n",
      "2      Tools & Home Improvement   \n",
      "3      Tools & Home Improvement   \n",
      "4      Tools & Home Improvement   \n",
      "...                         ...   \n",
      "94322  Tools & Home Improvement   \n",
      "94323  Tools & Home Improvement   \n",
      "94324  Tools & Home Improvement   \n",
      "94325  Tools & Home Improvement   \n",
      "94326  Tools & Home Improvement   \n",
      "\n",
      "                                                   title  \\\n",
      "0      ROVSUN Ice Maker Machine Countertop, Make 44lb...   \n",
      "1      HANSGO Egg Holder for Refrigerator, Deviled Eg...   \n",
      "2      Clothes Dryer Drum Slide, General Electric, Ho...   \n",
      "3      154567702 Dishwasher Lower Wash Arm Assembly f...   \n",
      "4                            Whirlpool W10918546 Igniter   \n",
      "...                                                  ...   \n",
      "94322                                          AMI PARTS   \n",
      "94323  WP10442411 Refrigerator Defrost Thermostat Rep...   \n",
      "94324    3957749 DRYER KNOB WHIRLPOOL ROPER USED PART fc   \n",
      "94325  5 Dryer Timer Knob Replacement for Frigidaire ...   \n",
      "94326  Edgewater Parts AP2039084-4 Rack Rollers Compa...   \n",
      "\n",
      "                                              categories parent_asin  \n",
      "0      [Appliances, Refrigerators, Freezers & Ice Mak...  B08Z743RRD  \n",
      "1      [Appliances, Parts & Accessories, Refrigerator...  B097BQDGHJ  \n",
      "2                      [Appliances, Parts & Accessories]  B00IN9AGAE  \n",
      "3      [Appliances, Parts & Accessories, Dryer Parts ...  B0C7K98JZS  \n",
      "4                      [Appliances, Parts & Accessories]  B07QZHQTVJ  \n",
      "...                                                  ...         ...  \n",
      "94322  [Appliances, Parts & Accessories, Dryer Parts ...  B07S5YQH3N  \n",
      "94323                  [Appliances, Parts & Accessories]  B082TY87VG  \n",
      "94324                  [Appliances, Parts & Accessories]  B001EY0RIQ  \n",
      "94325  [Appliances, Parts & Accessories, Dryer Parts ...  B07JZFJYPK  \n",
      "94326                  [Appliances, Parts & Accessories]  B01GGKIPE0  \n",
      "\n",
      "[94327 rows x 4 columns]>\n"
     ]
    }
   ],
   "source": [
    "# Inspect head of meta_clean\n",
    "print(meta_clean.head)"
   ]
  },
  {
   "cell_type": "code",
   "execution_count": 7,
   "id": "5d9429b7-9835-48e8-9489-d506b03070a6",
   "metadata": {
    "execution": {
     "iopub.execute_input": "2024-10-16T05:51:59.499638Z",
     "iopub.status.busy": "2024-10-16T05:51:59.499325Z",
     "iopub.status.idle": "2024-10-16T05:51:59.548414Z",
     "shell.execute_reply": "2024-10-16T05:51:59.547331Z",
     "shell.execute_reply.started": "2024-10-16T05:51:59.499614Z"
    }
   },
   "outputs": [
    {
     "name": "stdout",
     "output_type": "stream",
     "text": [
      "main_category    4676\n",
      "title               0\n",
      "categories          0\n",
      "parent_asin         0\n",
      "dtype: int64\n",
      "main_category    4676\n",
      "title               0\n",
      "categories          0\n",
      "parent_asin         0\n",
      "dtype: int64\n"
     ]
    }
   ],
   "source": [
    "# Check for missing values\n",
    "print(meta_clean.isnull().sum())\n",
    "print(meta_clean.isna().sum())\n",
    "\n",
    "# We don't use the main category in our model, so no need to drop the rows with missing data"
   ]
  },
  {
   "cell_type": "code",
   "execution_count": 6,
   "id": "71791f0c-a4d0-4a1e-bdb4-aa7d46c91c08",
   "metadata": {
    "execution": {
     "iopub.execute_input": "2024-10-16T05:54:24.146187Z",
     "iopub.status.busy": "2024-10-16T05:54:24.145682Z",
     "iopub.status.idle": "2024-10-16T05:54:24.183101Z",
     "shell.execute_reply": "2024-10-16T05:54:24.181631Z",
     "shell.execute_reply.started": "2024-10-16T05:54:24.146149Z"
    }
   },
   "outputs": [
    {
     "name": "stdout",
     "output_type": "stream",
     "text": [
      "              main_category  \\\n",
      "0   Industrial & Scientific   \n",
      "1  Tools & Home Improvement   \n",
      "2  Tools & Home Improvement   \n",
      "3  Tools & Home Improvement   \n",
      "4  Tools & Home Improvement   \n",
      "\n",
      "                                               title  \\\n",
      "0  ROVSUN Ice Maker Machine Countertop, Make 44lb...   \n",
      "1  HANSGO Egg Holder for Refrigerator, Deviled Eg...   \n",
      "2  Clothes Dryer Drum Slide, General Electric, Ho...   \n",
      "3  154567702 Dishwasher Lower Wash Arm Assembly f...   \n",
      "4                        Whirlpool W10918546 Igniter   \n",
      "\n",
      "                                          categories parent_asin  \\\n",
      "0  [Appliances, Refrigerators, Freezers & Ice Mak...  B08Z743RRD   \n",
      "1  [Appliances, Parts & Accessories, Refrigerator...  B097BQDGHJ   \n",
      "2                  [Appliances, Parts & Accessories]  B00IN9AGAE   \n",
      "3  [Appliances, Parts & Accessories, Dryer Parts ...  B0C7K98JZS   \n",
      "4                  [Appliances, Parts & Accessories]  B07QZHQTVJ   \n",
      "\n",
      "          sub_category  \n",
      "0           Ice Makers  \n",
      "1            Egg Trays  \n",
      "2  Parts & Accessories  \n",
      "3    Replacement Parts  \n",
      "4  Parts & Accessories  \n"
     ]
    }
   ],
   "source": [
    "# Extract the last element of each array in category column\n",
    "meta_clean[\"sub_category\"] = meta_clean[\"categories\"].apply(lambda x: x[-1] if len(x) > 0 else None)\n",
    "print(meta_clean.head())"
   ]
  },
  {
   "cell_type": "code",
   "execution_count": 7,
   "id": "2d2c15a4-2b14-4d53-8627-f946bee78b71",
   "metadata": {
    "execution": {
     "iopub.execute_input": "2024-10-16T05:54:39.242053Z",
     "iopub.status.busy": "2024-10-16T05:54:39.241721Z",
     "iopub.status.idle": "2024-10-16T05:54:39.251628Z",
     "shell.execute_reply": "2024-10-16T05:54:39.250642Z",
     "shell.execute_reply.started": "2024-10-16T05:54:39.242029Z"
    }
   },
   "outputs": [
    {
     "name": "stdout",
     "output_type": "stream",
     "text": [
      "['Ice Makers' 'Egg Trays' 'Parts & Accessories' 'Replacement Parts'\n",
      " 'Drip Pans' 'Dishwasher Parts & Accessories' 'Handles' 'Reusable Filters'\n",
      " 'Water Filters' None 'Knobs' 'Hoses' 'Accessories' 'Baskets'\n",
      " 'Drain Pumps' 'Range Hoods' 'Refrigerator Parts & Accessories' 'Shelves'\n",
      " 'Bins' 'Disposable Filters' 'Range Parts & Accessories' 'Refrigerators'\n",
      " 'Filters' 'Milk Frothing Pitchers' 'Oven Parts & Accessories'\n",
      " 'Built-In Dishwashers' 'Doors' 'Freezer Parts & Accessories'\n",
      " 'Freestanding Ranges' 'Cooktop Parts & Accessories' 'Humidity Meters'\n",
      " 'Washer Parts & Accessories' 'Beverage Refrigerators' 'Permanent Filters'\n",
      " 'Vents' 'Portable Dryers' 'Kegerators' 'Cooktops' 'Bag Sealers'\n",
      " 'Portable Washers' 'Ranges, Ovens & Cooktops' 'Washers' 'Dryers' 'Motors'\n",
      " 'Humidifier Parts & Accessories' 'Single Wall Ovens' 'Burners'\n",
      " 'Shrink Wrappers' 'Lint Screens' 'Range Hood Parts & Accessories'\n",
      " 'Chest Freezers' 'Stacked Washer & Dryer Units' 'Replacement Wicks'\n",
      " 'Upright Freezers' 'Washers & Dryers' 'Blowers' 'Fasteners' 'Grills'\n",
      " 'Absorption Sleeves' 'Chemicals' 'Slide-In Ranges'\n",
      " 'Garbage Disposals & Compactors'\n",
      " 'All-in-One Combination Washers & Dryers' 'Double Wall Ovens'\n",
      " 'Beverage Refrigerator Replacement Parts' 'Plug Receptacles' 'Freezers'\n",
      " 'Dryer Parts & Accessories' 'Food Waste Disposer Parts & Accessories'\n",
      " 'Ranges' 'Trash Compactor Parts & Accessories' 'Countertop Dishwashers'\n",
      " 'Dishwashers' 'Combination Microwave & Wall Ovens'\n",
      " 'Refrigerators, Freezers & Ice Makers' 'Burner Rings' 'Wall Ovens'\n",
      " 'Exhaust Fans' 'Kegerator Replacement Parts' 'Warming Drawers'\n",
      " 'Irons & Garment Steamers' 'Air Filters' 'Oven Racks' 'Heating Elements'\n",
      " 'Steam Cleaners & Steam Mops' 'LG Styler Steam Closets'\n",
      " 'Portable Dishwashers' 'Air Conditioner Parts & Accessories'\n",
      " 'Drop-In Ranges' 'Laundry Appliances' 'Trash Compactors'\n",
      " 'Gerhards Appliances' 'US MA 3P AWAS 2020']\n"
     ]
    }
   ],
   "source": [
    "# Inspect unique values from \"sub_category\"\n",
    "unique_values = meta_clean[\"sub_category\"].unique()\n",
    "\n",
    "print(unique_values)"
   ]
  },
  {
   "cell_type": "code",
   "execution_count": 7,
   "id": "b4209f49-7ef7-42aa-84d3-f2a154017b33",
   "metadata": {},
   "outputs": [],
   "source": [
    "# Define categories to use for model\n",
    "categories = [\n",
    "    \"refrigerators, freezers and ice makers\",\n",
    "    \"dishwashers, washers and dryers\",\n",
    "    \"microwaves, ovens and grills\",\n",
    "    \"parts and accessories\",\n",
    "    \"small appliances\",\n",
    "    \"mixed\"\n",
    "]"
   ]
  },
  {
   "cell_type": "code",
   "execution_count": 8,
   "id": "097b2f72-c1f3-4805-b767-ae04c4d32f87",
   "metadata": {},
   "outputs": [],
   "source": [
    "# Assign each sub_category to one of the 6 categories as labels\n",
    "category_mapping = {\n",
    "    \"refrigerators, freezers and ice makers\": \n",
    "    [\n",
    "    'Refrigerators',\n",
    "    'Beverage Refrigerators',\n",
    "    'Kegerators',\n",
    "    'Chest Freezers',\n",
    "    'Upright Freezers',\n",
    "    'Freezers',\n",
    "    'Refrigerators',\n",
    "    'Freezers & Ice Makers',\n",
    "    'Ice Makers'\n",
    "    ],\n",
    "    \n",
    "    \"dishwashers, washers and dryers\": \n",
    "    [\n",
    "    'Built-In Dishwashers',\n",
    "    'Portable Dryers',\n",
    "    'Portable Washers',\n",
    "    'Washers'\n",
    "    'Dryers',\n",
    "    'Stacked Washer & Dryer Units',\n",
    "    'Washers & Dryers',\n",
    "    'All-in-One Combination Washers & Dryers',\n",
    "    'Countertop Dishwashers',\n",
    "    'Dishwashers',\n",
    "    'Portable Dishwashers'\n",
    "    ],\n",
    "    \n",
    "    \"microwaves, ovens and grills\": \n",
    "    [\n",
    "    'Cooktops',\n",
    "    'Ranges, Ovens & Cooktops',\n",
    "    'Single Wall Ovens',\n",
    "    'Burners',\n",
    "    'Grills',\n",
    "    'Double Wall Ovens',\n",
    "    'Combination Microwave & Wall Ovens',\n",
    "    'Wall Ovens'\n",
    "    ],\n",
    "    \n",
    "    \"parts and accessories\": \n",
    "    [\n",
    "    'Parts & Accessories',\n",
    "    'Replacement Parts',\n",
    "    'Dishwasher Parts & Accessories',\n",
    "    'Handles',\n",
    "    'Reusable Filters',\n",
    "    'Knobs',\n",
    "    'Hoses',\n",
    "    'Accessories',\n",
    "    'Baskets',\n",
    "    'Drain Pumps',\n",
    "    'Range Hoods',\n",
    "    'Refrigerator Parts & Accessories',\n",
    "    'Shelves',\n",
    "    'Disposable Filters',\n",
    "    'Range Parts & Accessories',\n",
    "    'Filters',\n",
    "    'Oven Parts & Accessories',\n",
    "    'Doors',\n",
    "    'Freezer Parts & Accessories',\n",
    "    'Cooktop Parts & Accessories',\n",
    "    'Washer Parts & Accessories', \n",
    "    'Vents',\n",
    "    'Drip Pans',\n",
    "    'Humidifier Parts & Accessories',\n",
    "    'Lint Screens',\n",
    "    'Range Hood Parts & Accessories',\n",
    "    'Replacement Wicks',\n",
    "    'Absorption Sleeves', \n",
    "    'Chemicals'\n",
    "    'Beverage Refrigerator Replacement Parts', \n",
    "    'Plug Receptacles',\n",
    "    'Dryer Parts & Accessories',\n",
    "    'Food Waste Disposer Parts & Accessories',\n",
    "    'Trash Compactor Parts & Accessories',\n",
    "    'Burner Rings',\n",
    "    'Exhaust Fans', \n",
    "    'Kegerator Replacement Parts', \n",
    "    'Warming Drawers',\n",
    "    'Oven Racks', \n",
    "    'Heating Elements',\n",
    "    'Air Conditioner Parts & Accessories',\n",
    "    'Fasteners',\n",
    "    'Egg Trays',\n",
    "    ],\n",
    "    \n",
    "    \"small appliances\": \n",
    "    [\n",
    "    'Water Filters',\n",
    "    'Bins',\n",
    "    'Milk Frothing Pitchers',\n",
    "    'Bag Sealers', \n",
    "    'Humidity Meters',\n",
    "    'Permanent Filters',   \n",
    "    'Trash Compactors', \n",
    "    'Motors', \n",
    "    'Shrink Wrappers',\n",
    "    'Blowers',\n",
    "    'Garbage Disposals & Compactors',\n",
    "    'Irons & Garment Steamers',\n",
    "    'Air Filters',\n",
    "    'Steam Cleaners & Steam Mops' \n",
    "    ],\n",
    "    \n",
    "    \"mixed\": \n",
    "    [\n",
    "    'Gerhards Appliances', \n",
    "    'US MA 3P AWAS 2020',  \n",
    "    \" \", \n",
    "    \"None\",\n",
    "    'Freestanding Ranges', \n",
    "    'Slide-In Ranges',\n",
    "    'Ranges',\n",
    "    'LG Styler Steam Closets',\n",
    "    'Drop-In Ranges', \n",
    "    'Laundry Appliances' \n",
    "    ]\n",
    "}"
   ]
  },
  {
   "cell_type": "code",
   "execution_count": 9,
   "id": "140ddbfe-82b6-4128-9255-99e23c37fc98",
   "metadata": {},
   "outputs": [
    {
     "name": "stdout",
     "output_type": "stream",
     "text": [
      "['refrigerators, freezers and ice makers' 'parts and accessories'\n",
      " 'small appliances' 'mixed' 'dishwashers, washers and dryers'\n",
      " 'microwaves, ovens and grills']\n"
     ]
    }
   ],
   "source": [
    "# Assign new category to each sub_category\n",
    "\n",
    "def get_category(product):\n",
    "    for category, items in category_mapping.items():\n",
    "        if product in items:\n",
    "            return category\n",
    "    return \"mixed\"    \n",
    "\n",
    "# Apply the function to create a new column\n",
    "meta_clean[\"category_new\"] = meta_clean[\"sub_category\"].apply(get_category)\n",
    "\n",
    "print(meta_clean[\"category_new\"].unique())"
   ]
  },
  {
   "cell_type": "code",
   "execution_count": 18,
   "id": "6551ab31-2e6c-4f88-b48f-c5960958ea7b",
   "metadata": {},
   "outputs": [
    {
     "name": "stdout",
     "output_type": "stream",
     "text": [
      "Empty DataFrame\n",
      "Columns: [main_category, title, categories, parent_asin, sub_category, category_new]\n",
      "Index: []\n"
     ]
    }
   ],
   "source": [
    "# Check for unassigned products\n",
    "\n",
    "# Filter the dataframe for \"Unknown\" \n",
    "unknown_categories = meta_clean[meta_clean[\"category_new\"] == \"None\"]\n",
    "\n",
    "# Print or analyze the unknown entries\n",
    "print(unknown_categories)"
   ]
  },
  {
   "cell_type": "code",
   "execution_count": 10,
   "id": "d4e3623a",
   "metadata": {},
   "outputs": [],
   "source": [
    "# Pickle dataframe with categories for use in generating model\n",
    "meta_clean.to_pickle(\"./Saved datasets/meta_cat.pkl\")"
   ]
  },
  {
   "cell_type": "code",
   "execution_count": 41,
   "id": "27e4db49-835d-47a4-881f-4233d79fa708",
   "metadata": {
    "execution": {
     "iopub.execute_input": "2024-10-15T15:09:49.160239Z",
     "iopub.status.busy": "2024-10-15T15:09:49.159876Z",
     "iopub.status.idle": "2024-10-15T15:09:49.606663Z",
     "shell.execute_reply": "2024-10-15T15:09:49.605733Z",
     "shell.execute_reply.started": "2024-10-15T15:09:49.160213Z"
    }
   },
   "outputs": [
    {
     "data": {
      "image/png": "[encoded data removed]",
      "text/plain": [
       "<Figure size 640x480 with 1 Axes>"
      ]
     },
     "metadata": {},
     "output_type": "display_data"
    }
   ],
   "source": [
    "# View number of products per category\n",
    "\n",
    "# Calculate the distribution of product categories and sort by values\n",
    "category_distribution_sorted = meta_clean[\"category_new\"].value_counts().sort_values(ascending=True)\n",
    "\n",
    "# Plot the distribution as a bar chart\n",
    "category_distribution_sorted.plot(kind='bar')\n",
    "\n",
    "# Add title and labels\n",
    "plt.title('Distribution of Product Categories')\n",
    "plt.xlabel('Category')\n",
    "plt.ylabel('Number of Observations')\n",
    "\n",
    "# Show the plot\n",
    "plt.show()"
   ]
  },
  {
   "cell_type": "code",
   "execution_count": 11,
   "id": "e602b110-f856-4629-bf60-0b93d1597e27",
   "metadata": {},
   "outputs": [
    {
     "name": "stdout",
     "output_type": "stream",
     "text": [
      "              main_category  \\\n",
      "0   Industrial & Scientific   \n",
      "1  Tools & Home Improvement   \n",
      "2  Tools & Home Improvement   \n",
      "3  Tools & Home Improvement   \n",
      "4  Tools & Home Improvement   \n",
      "\n",
      "                                               title  \\\n",
      "0  ROVSUN Ice Maker Machine Countertop, Make 44lb...   \n",
      "1  HANSGO Egg Holder for Refrigerator, Deviled Eg...   \n",
      "2  Clothes Dryer Drum Slide, General Electric, Ho...   \n",
      "3  154567702 Dishwasher Lower Wash Arm Assembly f...   \n",
      "4                        Whirlpool W10918546 Igniter   \n",
      "\n",
      "                                          categories parent_asin  \\\n",
      "0  [Appliances, Refrigerators, Freezers & Ice Mak...  B08Z743RRD   \n",
      "1  [Appliances, Parts & Accessories, Refrigerator...  B097BQDGHJ   \n",
      "2                  [Appliances, Parts & Accessories]  B00IN9AGAE   \n",
      "3  [Appliances, Parts & Accessories, Dryer Parts ...  B0C7K98JZS   \n",
      "4                  [Appliances, Parts & Accessories]  B07QZHQTVJ   \n",
      "\n",
      "          sub_category                            category_new  labels  \n",
      "0           Ice Makers  refrigerators, freezers and ice makers       4  \n",
      "1            Egg Trays                   parts and accessories       3  \n",
      "2  Parts & Accessories                   parts and accessories       3  \n",
      "3    Replacement Parts                   parts and accessories       3  \n",
      "4  Parts & Accessories                   parts and accessories       3  \n"
     ]
    }
   ],
   "source": [
    "# Encode the categories as labels\n",
    "le = LabelEncoder()\n",
    "meta_clean[\"labels\"] = le.fit_transform(meta_clean[\"category_new\"])\n",
    "\n",
    "# Display the data with the new \"labels\" column\n",
    "print(meta_clean.head())"
   ]
  },
  {
   "cell_type": "code",
   "execution_count": 15,
   "id": "81ad3ebe-4cd3-4785-81a1-adff1a392266",
   "metadata": {},
   "outputs": [
    {
     "name": "stdout",
     "output_type": "stream",
     "text": [
      "Label mapping: {'dishwashers, washers and dryers': 0, 'microwaves, ovens and grills': 1, 'mixed': 2, 'parts and accessories': 3, 'refrigerators, freezers and ice makers': 4, 'small appliances': 5}\n"
     ]
    }
   ],
   "source": [
    "# View mapping of labels to original categories\n",
    "label_mapping = dict(zip(le.classes_, le.transform(le.classes_)))\n",
    "print('Label mapping:', label_mapping)"
   ]
  },
  {
   "cell_type": "code",
   "execution_count": 12,
   "id": "d3e85c63",
   "metadata": {},
   "outputs": [],
   "source": [
    "# Randomly picking 6000 rows for training/ testing, since model takes very long\n",
    "meta_small = meta_clean.sample(n=6000, random_state=42) # about 10%"
   ]
  },
  {
   "cell_type": "code",
   "execution_count": 13,
   "id": "33e4e51b-c16b-4e5b-b46f-2ea78296262a",
   "metadata": {},
   "outputs": [
    {
     "name": "stdout",
     "output_type": "stream",
     "text": [
      "Training set: (4200,), (4200,)\n",
      "Test set: (1800,), (1800,)\n"
     ]
    }
   ],
   "source": [
    "# Define label and features columns\n",
    "X = meta_small[\"title\"]\n",
    "y = meta_small[\"labels\"]\n",
    "\n",
    "# Split data into train and test using stratified sampling\n",
    "X_train, X_test, y_train, y_test = train_test_split(X, y, test_size=0.3, random_state=42, stratify=y)\n",
    "\n",
    "# Check the size of the data sets\n",
    "print(f\"Training set: {X_train.shape}, {y_train.shape}\")\n",
    "print(f\"Test set: {X_test.shape}, {y_test.shape}\")"
   ]
  },
  {
   "cell_type": "code",
   "execution_count": 16,
   "id": "ca86b84d",
   "metadata": {},
   "outputs": [],
   "source": [
    "# Slightly adjust model settings from model card for nvidia/domain-classifier to allow for changed categories\n",
    "\n",
    "class CustomModel(nn.Module, PyTorchModelHubMixin):\n",
    "    def __init__(self, config):\n",
    "        super(CustomModel, self).__init__()\n",
    "        # Load DeBERTa V3 base model for transfer learning\n",
    "        self.model = AutoModel.from_pretrained(config.base_model_name)\n",
    "        self.dropout = nn.Dropout(config.fc_dropout)\n",
    "        self.fc = nn.Linear(self.model.config.hidden_size, len(config.id2label))\n",
    "\n",
    "    def forward(self, input_ids, attention_mask, labels=None):\n",
    "        features = self.model(input_ids=input_ids, attention_mask=attention_mask).last_hidden_state\n",
    "        pooled_output = features[:, 0, :]  # Pooling the CLS token\n",
    "        dropped = self.dropout(pooled_output)\n",
    "        logits = self.fc(dropped)\n",
    "        loss = None\n",
    "        if labels is not None:\n",
    "            loss_fct = nn.CrossEntropyLoss()\n",
    "            loss = loss_fct(logits.view(-1, self.fc.out_features), labels.view(-1))\n",
    "        return SequenceClassifierOutput(loss=loss, logits=logits)\n",
    "\n",
    "# Set up id2label and label2id using label_mapping\n",
    "id2label = {v: k for k, v in label_mapping.items()}\n",
    "label2id = {k: v for k, v in label_mapping.items()}\n",
    "\n",
    "# Load configuration and update for our labels\n",
    "config = AutoConfig.from_pretrained(\"nvidia/domain-classifier\")\n",
    "config.id2label = id2label\n",
    "config.label2id = label2id\n",
    "config.fc_dropout = 0.1\n",
    "config.return_dict = True\n",
    "config.base_model_name = \"microsoft/deberta-v3-base\"\n"
   ]
  },
  {
   "cell_type": "code",
   "execution_count": 14,
   "id": "3a6750b2",
   "metadata": {},
   "outputs": [
    {
     "name": "stdout",
     "output_type": "stream",
     "text": [
      "{0: 'dishwashers, washers and dryers', 1: 'microwaves, ovens and grills', 2: 'mixed', 3: 'parts and accessories', 4: 'refrigerators, freezers and ice makers', 5: 'small appliances'}\n",
      "{'dishwashers, washers and dryers': 0, 'microwaves, ovens and grills': 1, 'mixed': 2, 'parts and accessories': 3, 'refrigerators, freezers and ice makers': 4, 'small appliances': 5}\n"
     ]
    }
   ],
   "source": [
    "# Check that labels and ids passed to the model are correct\n",
    "print(id2label)\n",
    "print(label2id)"
   ]
  },
  {
   "cell_type": "code",
   "execution_count": 17,
   "id": "41f97aeb-34c2-48c5-a766-ef78a770eb33",
   "metadata": {},
   "outputs": [
    {
     "name": "stderr",
     "output_type": "stream",
     "text": [
      "c:\\Users\\katha\\anaconda3\\envs\\llm_torch\\Lib\\site-packages\\transformers\\tokenization_utils_base.py:1601: FutureWarning: `clean_up_tokenization_spaces` was not set. It will be set to `True` by default. This behavior will be depracted in transformers v4.45, and will be then set to `False` by default. For more details check this issue: https://github.com/huggingface/transformers/issues/31884\n",
      "  warnings.warn(\n"
     ]
    }
   ],
   "source": [
    "# Initialize the model with the updated configuration\n",
    "model = CustomModel(config)\n",
    "\n",
    "# Load tokenizer\n",
    "tokenizer = DebertaV2Tokenizer.from_pretrained('microsoft/deberta-v3-base')"
   ]
  },
  {
   "cell_type": "code",
   "execution_count": 18,
   "id": "d79a0bb6-88ce-4924-bda7-baedd2b7ab3f",
   "metadata": {},
   "outputs": [],
   "source": [
    "# Tokenize the X variable\n",
    "def tokenize_texts(df, tokenizer):\n",
    "    # Reset index again before tokenization \n",
    "    df = df.reset_index(drop=True)\n",
    "    \n",
    "    # Tokenize the text\n",
    "    input_texts = df.tolist()\n",
    "    tokenized_data = tokenizer(\n",
    "        input_texts, \n",
    "        padding=True, \n",
    "        truncation=True, \n",
    "        max_length=512,  # Adjust max length if necessary\n",
    "        return_tensors='pt'\n",
    "    )\n",
    "    \n",
    "    return tokenized_data\n",
    "\n",
    "X_train_tokenized = tokenize_texts(X_train, tokenizer)\n",
    "X_test_tokenized = tokenize_texts(X_test, tokenizer)\n"
   ]
  },
  {
   "cell_type": "code",
   "execution_count": 19,
   "id": "9d1aefe7",
   "metadata": {},
   "outputs": [
    {
     "name": "stdout",
     "output_type": "stream",
     "text": [
      "{'input_ids': tensor([[    1, 47892, 26861,  ...,     0,     0,     0],\n",
      "        [    1,   543, 60542,  ...,     0,     0,     0],\n",
      "        [    1, 80899, 43827,  ...,     0,     0,     0],\n",
      "        ...,\n",
      "        [    1, 49521,   287,  ...,     0,     0,     0],\n",
      "        [    1, 61101, 48313,  ...,     0,     0,     0],\n",
      "        [    1, 76235, 10467,  ...,     0,     0,     0]]), 'token_type_ids': tensor([[0, 0, 0,  ..., 0, 0, 0],\n",
      "        [0, 0, 0,  ..., 0, 0, 0],\n",
      "        [0, 0, 0,  ..., 0, 0, 0],\n",
      "        ...,\n",
      "        [0, 0, 0,  ..., 0, 0, 0],\n",
      "        [0, 0, 0,  ..., 0, 0, 0],\n",
      "        [0, 0, 0,  ..., 0, 0, 0]]), 'attention_mask': tensor([[1, 1, 1,  ..., 0, 0, 0],\n",
      "        [1, 1, 1,  ..., 0, 0, 0],\n",
      "        [1, 1, 1,  ..., 0, 0, 0],\n",
      "        ...,\n",
      "        [1, 1, 1,  ..., 0, 0, 0],\n",
      "        [1, 1, 1,  ..., 0, 0, 0],\n",
      "        [1, 1, 1,  ..., 0, 0, 0]])}\n"
     ]
    }
   ],
   "source": [
    "# View the data after tokenization\n",
    "print(X_train_tokenized)"
   ]
  },
  {
   "cell_type": "code",
   "execution_count": 20,
   "id": "c741e46d-9685-4b56-a4a6-7fd47f98f187",
   "metadata": {},
   "outputs": [],
   "source": [
    "# Save the tokenized data as PyTorch tensors\n",
    "torch.save(X_train_tokenized, './Saved datasets/X_train_tokenized.pt')\n",
    "torch.save(X_test_tokenized, './Saved datasets/X_test_tokenized.pt')"
   ]
  },
  {
   "cell_type": "code",
   "execution_count": 21,
   "id": "3d1e5f43-2be3-42a8-8e17-b7062d4c4d1b",
   "metadata": {},
   "outputs": [],
   "source": [
    "# Load the data back after restarting machine\n",
    "X_train_tokenized = torch.load('./Saved datasets/X_train_tokenized.pt')\n",
    "X_test_tokenized = torch.load('./Saved datasets/X_test_tokenized.pt')"
   ]
  },
  {
   "cell_type": "code",
   "execution_count": 22,
   "id": "79ed53b5-882e-43a6-be07-1065a1469ff2",
   "metadata": {},
   "outputs": [],
   "source": [
    "# Convert tokenized training data into dataset\n",
    "\n",
    "# Extract tokenized inputs for training dataset\n",
    "input_ids = X_train_tokenized['input_ids']\n",
    "attention_masks = X_train_tokenized['attention_mask']\n",
    "labels = y_train\n",
    "\n",
    "# Prepare data for fine-tuning based on model requirements\n",
    "class TokenizedDataset(Dataset):\n",
    "    def __init__(self, input_ids, attention_masks, labels):\n",
    "        # Ensure all inputs are tensors, or convert them if they are not\n",
    "        self.input_ids = [torch.tensor(ids, dtype=torch.long) if not isinstance(ids, torch.Tensor) else ids for ids in input_ids]\n",
    "        self.attention_masks = [torch.tensor(mask, dtype=torch.long) if not isinstance(mask, torch.Tensor) else mask for mask in attention_masks]\n",
    "        self.labels = [torch.tensor(label, dtype=torch.long) if not isinstance(label, torch.Tensor) else label for label in labels]\n",
    "\n",
    "    def __len__(self):\n",
    "        return len(self.labels)\n",
    "\n",
    "    def __getitem__(self, idx):\n",
    "        return {\n",
    "            'input_ids': self.input_ids[idx].clone().detach(),\n",
    "            'attention_mask': self.attention_masks[idx].clone().detach(),\n",
    "            'labels': self.labels[idx].clone().detach()\n",
    "        }\n",
    "\n",
    "# Create training dataset\n",
    "training_dataset = TokenizedDataset(input_ids, attention_masks, labels)\n"
   ]
  },
  {
   "cell_type": "code",
   "execution_count": 23,
   "id": "a7091fce",
   "metadata": {},
   "outputs": [],
   "source": [
    "# Convert tokenized test data into dataset\n",
    "\n",
    "# Extract tokenized inputs for test dataset\n",
    "input_ids = X_test_tokenized['input_ids']\n",
    "attention_masks = X_test_tokenized['attention_mask']\n",
    "labels = y_test\n",
    "\n",
    "# Create testing dataset\n",
    "testing_dataset = TokenizedDataset(input_ids, attention_masks, labels)"
   ]
  },
  {
   "cell_type": "code",
   "execution_count": 24,
   "id": "0862cb9c",
   "metadata": {},
   "outputs": [
    {
     "name": "stdout",
     "output_type": "stream",
     "text": [
      "input_ids shape: torch.Size([1800, 113])\n",
      "attention_masks shape: torch.Size([1800, 113])\n"
     ]
    }
   ],
   "source": [
    "# Print tokenized input shapes\n",
    "print(f\"input_ids shape: {input_ids.shape}\")\n",
    "print(f\"attention_masks shape: {attention_masks.shape}\")"
   ]
  },
  {
   "cell_type": "code",
   "execution_count": 34,
   "id": "c3ee28f5-034f-4c41-944d-439eb0cf6ab6",
   "metadata": {},
   "outputs": [],
   "source": [
    "# Define model evaluation metrics\n",
    "def compute_metrics(pred):\n",
    "    labels = pred.label_ids\n",
    "    preds = pred.predictions.argmax(-1)\n",
    "    f1 = f1_score(labels, preds, average=\"weighted\")\n",
    "    accuracy = accuracy_score(labels, preds)\n",
    "    precision = precision_score(labels, preds, average='weighted')\n",
    "    recall = recall_score(labels, preds, average='weighted')\n",
    "    return {\n",
    "        'accuracy': accuracy,\n",
    "        'f1': f1,\n",
    "        'precision': precision,\n",
    "        'recall': recall\n",
    "        }"
   ]
  },
  {
   "cell_type": "code",
   "execution_count": 35,
   "id": "2966a339",
   "metadata": {},
   "outputs": [],
   "source": [
    "# Define custom class for saving of model output\n",
    "class SavePredictionsCallback(TrainerCallback):\n",
    "    def on_epoch_end(self, args, state, control, **kwargs):\n",
    "        # Make predictions on evaluation dataset\n",
    "        predictions, labels, _ = trainer.predict(trainer.eval_dataset)\n",
    "        predicted_labels = np.argmax(predictions, axis=1)\n",
    "\n",
    "        # Create dataframe for the current epoch predictions\n",
    "        results_df = pd.DataFrame({\n",
    "            'True Label': labels,\n",
    "            'Predicted Label': predicted_labels\n",
    "        })\n",
    "\n",
    "        # Save predictions to a csv file, overwriting at each epoch\n",
    "        results_df.to_csv('./Model outputs/categories.csv', index=False)\n",
    "        print(f\"Predictions for Epoch {state.epoch} saved.\")"
   ]
  },
  {
   "cell_type": "code",
   "execution_count": 36,
   "id": "1a29ff9d-a13f-4e0a-980a-58013c8d9cad",
   "metadata": {},
   "outputs": [],
   "source": [
    "# Setting up training arguments\n",
    "training_args = TrainingArguments(\n",
    "    output_dir='./category_results',\n",
    "    num_train_epochs=3,\n",
    "    per_device_train_batch_size=32,\n",
    "    per_device_eval_batch_size=64,\n",
    "    eval_strategy=\"epoch\",\n",
    "    logging_dir='./logs',\n",
    "    logging_strategy=\"epoch\",\n",
    "    save_strategy=\"epoch\",\n",
    "    logging_steps=10\n",
    ")"
   ]
  },
  {
   "cell_type": "code",
   "execution_count": 37,
   "id": "2a7cbc6a-5d5f-488c-b2a9-6e6eb7fdf654",
   "metadata": {},
   "outputs": [],
   "source": [
    "# Initialize Trainer\n",
    "trainer = Trainer(\n",
    "    model=model,  \n",
    "    args=training_args,\n",
    "    train_dataset=training_dataset,\n",
    "    eval_dataset=testing_dataset,\n",
    "    compute_metrics=compute_metrics,\n",
    "    callbacks=[SavePredictionsCallback] \n",
    ")\n"
   ]
  },
  {
   "cell_type": "code",
   "execution_count": 38,
   "id": "1071cbf7-fff3-4c81-be9b-339144436ef9",
   "metadata": {},
   "outputs": [
    {
     "name": "stderr",
     "output_type": "stream",
     "text": [
      "  0%|          | 0/132 [2:20:05<?, ?it/s]\n",
      " 33%|███▎      | 132/396 [28:51<44:10, 10.04s/it]  \n",
      "\u001b[A\n",
      "\u001b[A\n",
      "\u001b[A\n",
      "\u001b[A\n",
      "\u001b[A\n",
      "\u001b[A\n",
      "\u001b[A\n",
      "\u001b[A\n",
      "\u001b[A\n",
      "\u001b[A\n",
      "\u001b[A\n",
      "\u001b[A\n",
      "\u001b[A\n",
      "\u001b[A\n",
      "\u001b[A\n",
      "\u001b[A\n",
      "\u001b[A\n",
      "\u001b[A\n",
      "\u001b[A\n",
      "\u001b[A\n",
      "\u001b[A\n",
      "\u001b[A\n",
      "\u001b[A\n",
      "\u001b[A\n",
      "\u001b[A\n",
      "\u001b[A\n",
      "\u001b[A\n",
      "\u001b[A\n",
      "\u001b[A\n",
      "\u001b[A\n",
      " 33%|███▎      | 132/396 [31:32<44:10, 10.04s/it]"
     ]
    },
    {
     "name": "stdout",
     "output_type": "stream",
     "text": [
      "Predictions for Epoch 1.0 saved.\n",
      "{'loss': 0.4019, 'grad_norm': 12.61187744140625, 'learning_rate': 3.3333333333333335e-05, 'epoch': 1.0}\n"
     ]
    },
    {
     "name": "stderr",
     "output_type": "stream",
     "text": [
      "\n",
      "\u001b[A\n",
      "\u001b[A\n",
      "\u001b[A\n",
      "\u001b[A\n",
      "\u001b[A\n",
      "\u001b[A\n",
      "\u001b[A\n",
      "\u001b[A\n",
      "\u001b[A\n",
      "\u001b[A\n",
      "\u001b[A\n",
      "\u001b[A\n",
      "\u001b[A\n",
      "\u001b[A\n",
      "\u001b[A\n",
      "\u001b[A\n",
      "\u001b[A\n",
      "\u001b[A\n",
      "\u001b[A\n",
      "\u001b[A\n",
      "\u001b[A\n",
      "\u001b[A\n",
      "\u001b[A\n",
      "\u001b[A\n",
      "\u001b[A\n",
      "\u001b[A\n",
      "\u001b[A\n",
      "\u001b[A\n",
      "\u001b[A\n",
      "\n",
      "\u001b[A\u001b[A                                         \n",
      "                                                   \n",
      " 33%|███▎      | 132/396 [34:13<44:10, 10.04s/it]\n",
      "\u001b[A"
     ]
    },
    {
     "name": "stdout",
     "output_type": "stream",
     "text": [
      "{'eval_loss': 0.45175740122795105, 'eval_accuracy': 0.8833333333333333, 'eval_f1': 0.8693771067011087, 'eval_precision': 0.8789676778579958, 'eval_recall': 0.8833333333333333, 'eval_runtime': 160.7539, 'eval_samples_per_second': 11.197, 'eval_steps_per_second': 0.18, 'epoch': 1.0}\n"
     ]
    },
    {
     "name": "stderr",
     "output_type": "stream",
     "text": [
      " 67%|██████▋   | 264/396 [1:03:12<22:24, 10.19s/it] \n",
      "\u001b[A\n",
      "\u001b[A\n",
      "\u001b[A\n",
      "\u001b[A\n",
      "\u001b[A\n",
      "\u001b[A\n",
      "\u001b[A\n",
      "\u001b[A\n",
      "\u001b[A\n",
      "\u001b[A\n",
      "\u001b[A\n",
      "\u001b[A\n",
      "\u001b[A\n",
      "\u001b[A\n",
      "\u001b[A\n",
      "\u001b[A\n",
      "\u001b[A\n",
      "\u001b[A\n",
      "\u001b[A\n",
      "\u001b[A\n",
      "\u001b[A\n",
      "\u001b[A\n",
      "\u001b[A\n",
      "\u001b[A\n",
      "\u001b[A\n",
      "\u001b[A\n",
      "\u001b[A\n",
      "\u001b[A\n",
      "\u001b[A\n",
      "\u001b[A\n",
      " 67%|██████▋   | 264/396 [1:05:55<22:24, 10.19s/it]"
     ]
    },
    {
     "name": "stdout",
     "output_type": "stream",
     "text": [
      "Predictions for Epoch 2.0 saved.\n",
      "{'loss': 0.3012, 'grad_norm': 1.8545974493026733, 'learning_rate': 1.6666666666666667e-05, 'epoch': 2.0}\n"
     ]
    },
    {
     "name": "stderr",
     "output_type": "stream",
     "text": [
      "\n",
      "\u001b[A\n",
      "\u001b[A\n",
      "\u001b[A\n",
      "\u001b[A\n",
      "\u001b[A\n",
      "\u001b[A\n",
      "\u001b[A\n",
      "\u001b[A\n",
      "\u001b[A\n",
      "\u001b[A\n",
      "\u001b[A\n",
      "\u001b[A\n",
      "\u001b[A\n",
      "\u001b[A\n",
      "\u001b[A\n",
      "\u001b[A\n",
      "\u001b[A\n",
      "\u001b[A\n",
      "\u001b[A\n",
      "\u001b[A\n",
      "\u001b[A\n",
      "\u001b[A\n",
      "\u001b[A\n",
      "\u001b[A\n",
      "\u001b[A\n",
      "\u001b[A\n",
      "\u001b[A\n",
      "\u001b[A\n",
      "\u001b[A\n",
      "\n",
      "\u001b[A\u001b[A                                         \n",
      "                                                   \n",
      " 67%|██████▋   | 264/396 [1:08:38<22:24, 10.19s/it]\n",
      "\u001b[A"
     ]
    },
    {
     "name": "stdout",
     "output_type": "stream",
     "text": [
      "{'eval_loss': 0.44040435552597046, 'eval_accuracy': 0.8933333333333333, 'eval_f1': 0.8860710480512274, 'eval_precision': 0.8873865431024212, 'eval_recall': 0.8933333333333333, 'eval_runtime': 163.239, 'eval_samples_per_second': 11.027, 'eval_steps_per_second': 0.178, 'epoch': 2.0}\n"
     ]
    },
    {
     "name": "stderr",
     "output_type": "stream",
     "text": [
      "100%|██████████| 396/396 [1:36:32<00:00, 10.16s/it]   \n",
      "\u001b[A\n",
      "\u001b[A\n",
      "\u001b[A\n",
      "\u001b[A\n",
      "\u001b[A\n",
      "\u001b[A\n",
      "\u001b[A\n",
      "\u001b[A\n",
      "\u001b[A\n",
      "\u001b[A\n",
      "\u001b[A\n",
      "\u001b[A\n",
      "\u001b[A\n",
      "\u001b[A\n",
      "\u001b[A\n",
      "\u001b[A\n",
      "\u001b[A\n",
      "\u001b[A\n",
      "\u001b[A\n",
      "\u001b[A\n",
      "\u001b[A\n",
      "\u001b[A\n",
      "\u001b[A\n",
      "\u001b[A\n",
      "\u001b[A\n",
      "\u001b[A\n",
      "\u001b[A\n",
      "\u001b[A\n",
      "\u001b[A\n",
      "\u001b[A\n",
      "100%|██████████| 396/396 [1:39:13<00:00, 10.16s/it]"
     ]
    },
    {
     "name": "stdout",
     "output_type": "stream",
     "text": [
      "Predictions for Epoch 3.0 saved.\n",
      "{'loss': 0.2058, 'grad_norm': 4.118606090545654, 'learning_rate': 0.0, 'epoch': 3.0}\n"
     ]
    },
    {
     "name": "stderr",
     "output_type": "stream",
     "text": [
      "\n",
      "\u001b[A\n",
      "\u001b[A\n",
      "\u001b[A\n",
      "\u001b[A\n",
      "\u001b[A\n",
      "\u001b[A\n",
      "\u001b[A\n",
      "\u001b[A\n",
      "\u001b[A\n",
      "\u001b[A\n",
      "\u001b[A\n",
      "\u001b[A\n",
      "\u001b[A\n",
      "\u001b[A\n",
      "\u001b[A\n",
      "\u001b[A\n",
      "\u001b[A\n",
      "\u001b[A\n",
      "\u001b[A\n",
      "\u001b[A\n",
      "\u001b[A\n",
      "\u001b[A\n",
      "\u001b[A\n",
      "\u001b[A\n",
      "\u001b[A\n",
      "\u001b[A\n",
      "\u001b[A\n",
      "\u001b[A\n",
      "\u001b[A\n",
      "\n",
      "\u001b[A\u001b[A                                         \n",
      "                                                   \n",
      "100%|██████████| 396/396 [1:41:51<00:00, 10.16s/it]\n",
      "\u001b[A"
     ]
    },
    {
     "name": "stdout",
     "output_type": "stream",
     "text": [
      "{'eval_loss': 0.43660610914230347, 'eval_accuracy': 0.8966666666666666, 'eval_f1': 0.8922523861251814, 'eval_precision': 0.8920266084366557, 'eval_recall': 0.8966666666666666, 'eval_runtime': 157.6886, 'eval_samples_per_second': 11.415, 'eval_steps_per_second': 0.184, 'epoch': 3.0}\n"
     ]
    },
    {
     "name": "stderr",
     "output_type": "stream",
     "text": [
      "\n",
      "100%|██████████| 396/396 [1:41:54<00:00, 15.44s/it]"
     ]
    },
    {
     "name": "stdout",
     "output_type": "stream",
     "text": [
      "{'train_runtime': 6114.0658, 'train_samples_per_second': 2.061, 'train_steps_per_second': 0.065, 'train_loss': 0.30298037962480023, 'epoch': 3.0}\n"
     ]
    },
    {
     "name": "stderr",
     "output_type": "stream",
     "text": [
      "\n"
     ]
    },
    {
     "data": {
      "text/plain": [
       "TrainOutput(global_step=396, training_loss=0.30298037962480023, metrics={'train_runtime': 6114.0658, 'train_samples_per_second': 2.061, 'train_steps_per_second': 0.065, 'total_flos': 0.0, 'train_loss': 0.30298037962480023, 'epoch': 3.0})"
      ]
     },
     "execution_count": 38,
     "metadata": {},
     "output_type": "execute_result"
    }
   ],
   "source": [
    "# Run fine-tuning\n",
    "trainer.train()"
   ]
  },
  {
   "cell_type": "code",
   "execution_count": 39,
   "id": "0da015ad-7942-47be-b400-c954f26bb02d",
   "metadata": {},
   "outputs": [
    {
     "data": {
      "text/plain": [
       "('./categoriser_model\\\\tokenizer_config.json',\n",
       " './categoriser_model\\\\special_tokens_map.json',\n",
       " './categoriser_model\\\\spm.model',\n",
       " './categoriser_model\\\\added_tokens.json')"
      ]
     },
     "execution_count": 39,
     "metadata": {},
     "output_type": "execute_result"
    }
   ],
   "source": [
    "# Save the model and tokenizer to a directory\n",
    "model.save_pretrained('./categoriser_model')\n",
    "tokenizer.save_pretrained('./categoriser_model')"
   ]
  },
  {
   "cell_type": "code",
   "execution_count": 42,
   "id": "8bd94687",
   "metadata": {},
   "outputs": [],
   "source": [
    "# To load the model and tokenizer later\n",
    "loaded_model = CustomModel.from_pretrained('./categoriser_model')\n",
    "loaded_tokenizer = AutoTokenizer.from_pretrained('./categoriser_model')"
   ]
  },
  {
   "cell_type": "code",
   "execution_count": 43,
   "id": "e9badd24",
   "metadata": {},
   "outputs": [
    {
     "name": "stderr",
     "output_type": "stream",
     "text": [
      "100%|██████████| 29/29 [02:36<00:00,  5.41s/it]"
     ]
    },
    {
     "name": "stdout",
     "output_type": "stream",
     "text": [
      "Predicted class indices: [3 3 3 ... 3 3 3]\n",
      "True labels: 4367     3\n",
      "12506    3\n",
      "22459    3\n",
      "13774    3\n",
      "31057    5\n",
      "        ..\n",
      "84977    5\n",
      "58340    3\n",
      "29694    3\n",
      "43376    3\n",
      "92327    3\n",
      "Name: labels, Length: 1800, dtype: int32\n",
      "Metrics: {'test_loss': 0.43660610914230347, 'test_accuracy': 0.8966666666666666, 'test_f1': 0.8922523861251814, 'test_precision': 0.8920266084366557, 'test_recall': 0.8966666666666666, 'test_runtime': 162.3071, 'test_samples_per_second': 11.09, 'test_steps_per_second': 0.179}\n"
     ]
    },
    {
     "name": "stderr",
     "output_type": "stream",
     "text": [
      "\n"
     ]
    }
   ],
   "source": [
    "# Make predictions on the test set\n",
    "predictions, true_labels, metrics = trainer.predict(testing_dataset)\n",
    "\n",
    "# Convert them to predicted class indices\n",
    "predicted_class_indices = predictions.argmax(-1)\n",
    "\n",
    "# Print the predicted classes and metrics\n",
    "print(\"Predicted class indices:\", predicted_class_indices)\n",
    "print(\"True labels:\", labels)\n",
    "print(\"Metrics:\", metrics)"
   ]
  },
  {
   "cell_type": "code",
   "execution_count": 44,
   "id": "a061e3cb",
   "metadata": {},
   "outputs": [
    {
     "name": "stdout",
     "output_type": "stream",
     "text": [
      "Predictions saved to test_predictions.csv\n"
     ]
    }
   ],
   "source": [
    "# Add a new column called 'predictions' to store the predicted labels\n",
    "X_test['predictions'] = predicted_class_indices\n",
    "\n",
    "# Step 5: Save the updated dataframe to a CSV file\n",
    "X_test.to_csv('./Model outputs/test_predictions.csv', index=False)\n",
    "\n",
    "print(\"Predictions saved to test_predictions.csv\")"
   ]
  },
  {
   "cell_type": "code",
   "execution_count": 49,
   "id": "0bd44219",
   "metadata": {},
   "outputs": [
    {
     "data": {
      "image/png": "[encoded data removed]",
      "text/plain": [
       "<Figure size 800x800 with 2 Axes>"
      ]
     },
     "metadata": {},
     "output_type": "display_data"
    }
   ],
   "source": [
    "# Define the category names corresponding to your labels\n",
    "category_names = le.classes_ \n",
    "\n",
    "# Plot the confusion matrix with the original category names on the axes\n",
    "disp = ConfusionMatrixDisplay(confusion_matrix=cm, display_labels=category_names)\n",
    "\n",
    "# Plot the confusion matrix\n",
    "fig, ax = plt.subplots(figsize=(8, 8))  \n",
    "disp.plot(cmap=plt.cm.Blues, ax=ax, xticks_rotation=45)\n",
    "\n",
    "# Set the tick parameters to avoid label overlap\n",
    "ax.set_xticks(range(len(category_names)))  \n",
    "ax.set_yticks(range(len(category_names)))\n",
    "ax.set_xticklabels(category_names, rotation=45, ha=\"right\", rotation_mode=\"anchor\")  \n",
    "ax.set_yticklabels(category_names, va=\"center\")  \n",
    "\n",
    "# Adjust layout to ensure labels are spaced evenly\n",
    "plt.tight_layout()\n",
    "\n",
    "# Show the plot\n",
    "plt.show()"
   ]
  }
 ],
 "metadata": {
  "kernelspec": {
   "display_name": "llm_torch",
   "language": "python",
   "name": "python3"
  },
  "language_info": {
   "codemirror_mode": {
    "name": "ipython",
    "version": 3
   },
   "file_extension": ".py",
   "mimetype": "text/x-python",
   "name": "python",
   "nbconvert_exporter": "python",
   "pygments_lexer": "ipython3",
   "version": "3.12.7"
  }
 },
 "nbformat": 4,
 "nbformat_minor": 5
}
