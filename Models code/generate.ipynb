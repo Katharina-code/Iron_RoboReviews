{
 "cells": [
  {
   "cell_type": "code",
   "execution_count": 1,
   "id": "96e19a0e-eccc-494d-859f-52462dd94f6e",
   "metadata": {},
   "outputs": [
    {
     "name": "stderr",
     "output_type": "stream",
     "text": [
      "c:\\Users\\katha\\anaconda3\\envs\\llm_torch\\Lib\\site-packages\\tqdm\\auto.py:21: TqdmWarning: IProgress not found. Please update jupyter and ipywidgets. See https://ipywidgets.readthedocs.io/en/stable/user_install.html\n",
      "  from .autonotebook import tqdm as notebook_tqdm\n"
     ]
    }
   ],
   "source": [
    "import pandas as pd\n",
    "from accelerate import init_empty_weights, infer_auto_device_map\n",
    "from llama_cpp import Llama"
   ]
  },
  {
   "cell_type": "code",
   "execution_count": 2,
   "id": "b59a4da5-c34a-45f8-b525-f1f5ee7055de",
   "metadata": {},
   "outputs": [
    {
     "name": "stdout",
     "output_type": "stream",
     "text": [
      "   rating              title  \\\n",
      "0     5.0         Work great   \n",
      "1     5.0  excellent product   \n",
      "2     5.0    Happy customer!   \n",
      "3     5.0      Amazing value   \n",
      "4     5.0        Dryer parts   \n",
      "\n",
      "                                                text parent_asin sentiment  \\\n",
      "0              work great. use a new one every month  B01N0TQ0OH  positive   \n",
      "1                            Little on the thin side  B07DD37QPZ  positive   \n",
      "2                   Quick delivery, fixed the issue!  B082W3Z9YK  positive   \n",
      "3  I wasn't sure whether these were worth it or n...  B078W2BJY8  positive   \n",
      "4  Easy to install got the product expected to re...  B08C9LPCQV  positive   \n",
      "\n",
      "                                       combined_text  \\\n",
      "0   Work great work great. use a new one every month   \n",
      "1          excellent product Little on the thin side   \n",
      "2   Happy customer! Quick delivery, fixed the issue!   \n",
      "3  Amazing value I wasn't sure whether these were...   \n",
      "4  Dryer parts Easy to install got the product ex...   \n",
      "\n",
      "                                           truncated predicted_label  \n",
      "0   Work great work great. use a new one every month        positive  \n",
      "1          excellent product Little on the thin side        positive  \n",
      "2   Happy customer! Quick delivery, fixed the issue!        positive  \n",
      "3  Amazing value I wasn't sure whether these were...        positive  \n",
      "4  Dryer parts Easy to install got the product ex...        positive  \n"
     ]
    }
   ],
   "source": [
    "# Load output reviews and meta datasets with sentiment and category columns from previous models \n",
    "\n",
    "# Load reviews from csv\n",
    "processed_reviews = pd.read_csv('./Models output/sentiment_checkpoint.csv')\n",
    "\n",
    "# Display the first few rows to verify the content\n",
    "print(processed_reviews.head())"
   ]
  },
  {
   "cell_type": "code",
   "execution_count": 3,
   "id": "128273a5",
   "metadata": {},
   "outputs": [],
   "source": [
    "# Load meta and meta_cat from pickle\n",
    "meta = pd.read_pickle(\"./Saved datasets/meta.pkl\")\n",
    "meta_cat = pd.read_pickle(\"./Saved datasets/meta_cat.pkl\")"
   ]
  },
  {
   "cell_type": "code",
   "execution_count": 4,
   "id": "5870b024",
   "metadata": {},
   "outputs": [
    {
     "name": "stdout",
     "output_type": "stream",
     "text": [
      "              main_category  \\\n",
      "0   Industrial & Scientific   \n",
      "1  Tools & Home Improvement   \n",
      "2  Tools & Home Improvement   \n",
      "3  Tools & Home Improvement   \n",
      "4  Tools & Home Improvement   \n",
      "\n",
      "                                               title  average_rating  \\\n",
      "0  ROVSUN Ice Maker Machine Countertop, Make 44lb...             3.7   \n",
      "1  HANSGO Egg Holder for Refrigerator, Deviled Eg...             4.2   \n",
      "2  Clothes Dryer Drum Slide, General Electric, Ho...             3.5   \n",
      "3  154567702 Dishwasher Lower Wash Arm Assembly f...             4.5   \n",
      "4                        Whirlpool W10918546 Igniter             3.8   \n",
      "\n",
      "   rating_number                                           features  \\\n",
      "0             61  [【Quick Ice Making】This countertop ice machine...   \n",
      "1             75  [Plastic, Practical Kitchen Storage - Our egg ...   \n",
      "2             18                                                 []   \n",
      "3             26  [MODEL NUMBER:154567702 Dishwasher Lower Wash ...   \n",
      "4             12          [This is a Genuine OEM Replacement Part.]   \n",
      "\n",
      "                                         description  price  \\\n",
      "0                                                 []   None   \n",
      "1                                                 []   None   \n",
      "2  [Brand new dryer drum slide, replaces General ...   None   \n",
      "3  [MODEL NUMBER:154567702 Dishwasher Lower Wash ...   None   \n",
      "4                                [Whirlpool Igniter]  25.07   \n",
      "\n",
      "                                          categories  \\\n",
      "0  [Appliances, Refrigerators, Freezers & Ice Mak...   \n",
      "1  [Appliances, Parts & Accessories, Refrigerator...   \n",
      "2                  [Appliances, Parts & Accessories]   \n",
      "3  [Appliances, Parts & Accessories, Dryer Parts ...   \n",
      "4                  [Appliances, Parts & Accessories]   \n",
      "\n",
      "                                             details parent_asin  \\\n",
      "0  {\"Brand\": \"ROVSUN\", \"Model Name\": \"ICM-2005\", ...  B08Z743RRD   \n",
      "1  {\"Manufacturer\": \"HANSGO\", \"Part Number\": \"HAN...  B097BQDGHJ   \n",
      "2  {\"Manufacturer\": \"RPI\", \"Part Number\": \"WE1M33...  B00IN9AGAE   \n",
      "3  {\"Manufacturer\": \"folosem\", \"Part Number\": \"15...  B0C7K98JZS   \n",
      "4  {\"Manufacturer\": \"Whirlpool\", \"Part Number\": \"...  B07QZHQTVJ   \n",
      "\n",
      "  bought_together subtitle                            category_new  \n",
      "0            None     None  refrigerators, freezers and ice makers  \n",
      "1            None     None                   parts and accessories  \n",
      "2            None     None                   parts and accessories  \n",
      "3            None     None                   parts and accessories  \n",
      "4            None     None                   parts and accessories  \n"
     ]
    }
   ],
   "source": [
    "# Merge categories to the meta dataframe \n",
    "processed_meta = meta.merge(meta_cat[['title', 'category_new']], on='title', how='left')\n",
    "print(processed_meta.head())"
   ]
  },
  {
   "cell_type": "code",
   "execution_count": 5,
   "id": "68cf8acf-e06a-4077-8419-f14112350b52",
   "metadata": {},
   "outputs": [
    {
     "name": "stdout",
     "output_type": "stream",
     "text": [
      "                                                    title  ranking_score\n",
      "0       ROVSUN Ice Maker Machine Countertop, Make 44lb...       4.015724\n",
      "1       HANSGO Egg Holder for Refrigerator, Deviled Eg...       4.155630\n",
      "2       Clothes Dryer Drum Slide, General Electric, Ho...       4.071319\n",
      "3       154567702 Dishwasher Lower Wash Arm Assembly f...       4.185644\n",
      "4                             Whirlpool W10918546 Igniter       4.111839\n",
      "...                                                   ...            ...\n",
      "135548                                          AMI PARTS       4.130818\n",
      "135549  WP10442411 Refrigerator Defrost Thermostat Rep...       4.145603\n",
      "135550    3957749 DRYER KNOB WHIRLPOOL ROPER USED PART fc       4.140343\n",
      "135551  5 Dryer Timer Knob Replacement for Frigidaire ...       4.140343\n",
      "135552  Edgewater Parts AP2039084-4 Rack Rollers Compa...       4.145603\n",
      "\n",
      "[135553 rows x 2 columns]\n"
     ]
    }
   ],
   "source": [
    "# Calculate the ranking of products in each category using average rating and rating number columns\n",
    "\n",
    "# Mean rating and mean rating count\n",
    "mean_rating = processed_meta['average_rating'].mean()\n",
    "mean_rating_count = processed_meta['rating_number'].mean()\n",
    "\n",
    "# Calculate a ranking score based on the Bayesian average formula\n",
    "processed_meta['ranking_score'] = (\n",
    "    (processed_meta['average_rating'] * processed_meta['rating_number'] + mean_rating * mean_rating_count) /\n",
    "    (processed_meta['rating_number'] + mean_rating_count)\n",
    ")\n",
    "\n",
    "print(processed_meta[['title', 'ranking_score']])"
   ]
  },
  {
   "cell_type": "code",
   "execution_count": 6,
   "id": "59bd4f51",
   "metadata": {},
   "outputs": [],
   "source": [
    "# Only include columns needed for model\n",
    "reviews_clean = processed_reviews[['parent_asin', 'combined_text', 'sentiment']] # Can use the predicted labels here as well\n",
    "meta_clean = processed_meta[['parent_asin', 'category_new', 'title', 'ranking_score', 'features']] # Can use the predicted categories here as well"
   ]
  },
  {
   "cell_type": "code",
   "execution_count": 32,
   "id": "a08cb77e-05c2-47ff-b0b7-591687b0000d",
   "metadata": {},
   "outputs": [
    {
     "name": "stderr",
     "output_type": "stream",
     "text": [
      "AVX = 1 | AVX2 = 1 | AVX512 = 0 | AVX512_VBMI = 0 | AVX512_VNNI = 0 | FMA = 1 | NEON = 0 | ARM_FMA = 0 | F16C = 1 | FP16_VA = 0 | WASM_SIMD = 0 | BLAS = 1 | SSE3 = 1 | SSSE3 = 0 | VSX = 0 | \n"
     ]
    }
   ],
   "source": [
    "# Path to the GGUF file \n",
    "model_path = \"./amber.Q4_K_M.gguf\"\n",
    "\n",
    "# Initialize the model\n",
    "llm = Llama(\n",
    "    model_path=model_path,  \n",
    "    n_ctx=6000,  \n",
    "    n_threads=8,  \n",
    "    n_gpu_layers=0 \n",
    ")"
   ]
  },
  {
   "cell_type": "code",
   "execution_count": 8,
   "id": "35fc1ddc-c1ca-4458-a4af-6811a687a392",
   "metadata": {},
   "outputs": [],
   "source": [
    "# Create smaller dataset with only top n products\n",
    "\n",
    "def get_top_products(df, category=None, top_n=3):\n",
    "     # Filter by category if provided\n",
    "    if category:\n",
    "        df = df[df['category_new'] == category]\n",
    "    \n",
    "    # Sort the dataframe by ranking score in descending order\n",
    "    df_sorted = df.sort_values(by='ranking_score', ascending=False)\n",
    "    \n",
    "    # Drop duplicates based on parent_asin to ensure unique products\n",
    "    df_unique = df_sorted.drop_duplicates(subset=['parent_asin'])\n",
    "    \n",
    "    # Get top products (up to top_n) after filtering and sorting\n",
    "    top_products_per_category = df_unique.head(top_n)\n",
    "    \n",
    "    return top_products_per_category"
   ]
  },
  {
   "cell_type": "code",
   "execution_count": 16,
   "id": "b8af536d",
   "metadata": {},
   "outputs": [
    {
     "name": "stdout",
     "output_type": "stream",
     "text": [
      "       parent_asin                            category_new  \\\n",
      "16056   B000BQWN2G  refrigerators, freezers and ice makers   \n",
      "108045  B083Y6FJD6  refrigerators, freezers and ice makers   \n",
      "102513  B07R3YF9Q7  refrigerators, freezers and ice makers   \n",
      "\n",
      "                                                    title  ranking_score  \\\n",
      "16056   Fluidmaster 12IM72 Braided Stainless Steel Ice...       4.736266   \n",
      "108045  Shark Industrial 25 FT Stainless Steel Braided...       4.704098   \n",
      "102513  Refrigerator Lock,Fridge Lock with Keys,Freeze...       4.668703   \n",
      "\n",
      "                                                 features  \n",
      "16056   [QUALITY WATER SUPPLY LINE: Ice maker connecto...  \n",
      "108045  [ONE 304 stainless steel braided premium icema...  \n",
      "102513  [Make You More Peace:Refrigerator lock is perf...  \n"
     ]
    }
   ],
   "source": [
    "# Testing\n",
    "category = 'refrigerators, freezers and ice makers'  \n",
    "top_n = 3  # Number of top products to include\n",
    "\n",
    "# Test the function\n",
    "top_products = get_top_products(meta_clean, category, top_n)\n",
    "print(top_products)"
   ]
  },
  {
   "cell_type": "code",
   "execution_count": 60,
   "id": "fe6eddcd",
   "metadata": {},
   "outputs": [],
   "source": [
    "# Break down prompt in 3 steps due to context length restrictions\n",
    "\n",
    "# Step 1: Summarize the features for each product\n",
    "\n",
    "def summarize_features(llm, product_title, features):\n",
    "    prompt = f\"Summarize the features of the product in 3 sentences '{product_title}':\\nFeatures: {features}\\n\"\n",
    "    output = llm(prompt, max_tokens=300, stop=[\"</s>\"], echo=False)\n",
    "    return output['choices'][0]['text']\n",
    "\n",
    "# Step 2: Summarize the positive reviews\n",
    "\n",
    "def summarize_positive_reviews(llm, product_title, positive_reviews):\n",
    "    reviews_text = \" \".join(positive_reviews)\n",
    "    prompt = f\"Summarize the top 3 positive reviews for '{product_title}':\\nReviews: {reviews_text}\\n\"\n",
    "    output = llm(prompt, max_tokens=300, stop=[\"</s>\"], echo=False)\n",
    "    return output['choices'][0]['text']\n",
    "\n",
    "#Step 3: Summarise the negative reviews:\n",
    "\n",
    "def summarize_negative_reviews(llm, product_title, negative_reviews):\n",
    "    reviews_text = \" \".join(negative_reviews)\n",
    "    prompt = f\"Summarize the top 3 negative reviews for '{product_title}':\\nReviews: {reviews_text}\\n\"\n",
    "    output = llm(prompt, max_tokens=300, stop=[\"</s>\"], echo=False)\n",
    "    return output['choices'][0]['text']"
   ]
  },
  {
   "cell_type": "code",
   "execution_count": 61,
   "id": "e72e10e8",
   "metadata": {},
   "outputs": [],
   "source": [
    "# Step 4: Concatenate into the final article\n",
    "def generate_final_article(llm, products, reviews_df):\n",
    "    final_article = \"\"\n",
    "\n",
    "    # Iterate over each product\n",
    "    for _, product in products.iterrows():\n",
    "        parent_asin = product['parent_asin']\n",
    "        title = product['title']\n",
    "        features = product['features']\n",
    "\n",
    "        # Retrieve positive and negative reviews for the product\n",
    "        product_reviews = reviews_df[reviews_df['parent_asin'] == parent_asin]\n",
    "        positive_reviews = product_reviews[product_reviews['sentiment'] == 'positive']['combined_text'].tolist()\n",
    "        negative_reviews = product_reviews[product_reviews['sentiment'] == 'negative']['combined_text'].tolist()\n",
    "\n",
    "        # Summarize product features, positive reviews, and negative reviews\n",
    "        features_summary = summarize_features(llm, title, features)\n",
    "        positive_reviews_summary = summarize_positive_reviews(llm, title, positive_reviews[:5])\n",
    "        negative_reviews_summary = summarize_negative_reviews(llm, title, negative_reviews[:5])\n",
    "\n",
    "        # Add the summaries to the final article\n",
    "        final_article += f\"\\nProduct: {title}\\n\"\n",
    "        final_article += f\"Features Summary:\\n{features_summary}\\n\"\n",
    "        final_article += f\"Positive Reviews Summary:\\n{positive_reviews_summary}\\n\"\n",
    "        final_article += f\"Negative Reviews Summary:\\n{negative_reviews_summary}\\n\"\n",
    "\n",
    "    return final_article"
   ]
  },
  {
   "cell_type": "code",
   "execution_count": 62,
   "id": "31ed0917",
   "metadata": {},
   "outputs": [
    {
     "name": "stdout",
     "output_type": "stream",
     "text": [
      "['refrigerators, freezers and ice makers', 'parts and accessories', 'small appliances', 'mixed', 'microwaves, ovens and grills', 'dishwashers, washers and dryers']\n"
     ]
    }
   ],
   "source": [
    "# Show categories as list, so they can be selected by indexing\n",
    "categories = meta_clean[\"category_new\"].unique().tolist()\n",
    "print(categories)"
   ]
  },
  {
   "cell_type": "code",
   "execution_count": 64,
   "id": "9b12d5b2",
   "metadata": {},
   "outputs": [
    {
     "name": "stderr",
     "output_type": "stream",
     "text": [
      "Llama.generate: prefix-match hit\n",
      "Llama.generate: prefix-match hit\n",
      "Llama.generate: prefix-match hit\n",
      "Llama.generate: prefix-match hit\n",
      "Llama.generate: prefix-match hit\n",
      "Llama.generate: prefix-match hit\n",
      "Llama.generate: prefix-match hit\n",
      "Llama.generate: prefix-match hit\n",
      "Llama.generate: prefix-match hit\n"
     ]
    },
    {
     "name": "stdout",
     "output_type": "stream",
     "text": [
      "\n",
      "Product: Fluidmaster 12IM72 Braided Stainless Steel Ice Maker Connector Water Line with Dual 1/4-In. x 1/4-In. Female Compression Threads, 6 Ft. (72-In.) Length\n",
      "Features Summary:\n",
      "Specifications : ['INCLUDES: One 1/4 in. x [email protected] (72 inches) stainless steel ice maker connector', \"One Ice Maker Connections Assembly\", 'Four Nickel-plated Brass Hex Nuts, Washers and Splicing Tape'\n",
      "Warranty : ['Limited Lifetime']]\n",
      "Product dimensions: [email protected], 72.0 x .154\" (3/8\")\n",
      "Positive Reviews Summary:\n",
      "See all 3,106 customer reviews on Amazon USA\n",
      "Negative Reviews Summary:\n",
      "Reviews: Doesn't last and will ruin a floor - Review from Home Depot Started leaking two years after installing .Starts Leaked at area just above nut part ,made in China ... One Star didnt replace my plastic icemaker tubing which crack... maybe its a peculiarity of the fridge, don't know.\n",
      "Reviews: Fluidmaster 12IM74 Stainless Steel Ice Making Connector Kit with Dual Compression Fittings and Adapter - White (3-Pack) Review Started leaks after one year Installing in a refrigerator made by Kenmore, probably from poor design of the plastic faucet.\n",
      "Reviews: Fluidmaster 12IM74 Stainless Steel Ice Making Connector Kit with Dual Compression Fittings and Adapter - White (3-Pack) Review Started leaks after one year Installing in a refrigerator made by Kenmore, probably from poor design of the plastic faucet.\n",
      "Reviews: › Fluidmaster IM72 Stainless Steel Ice Making Connector Kit with Dual Compression Fittings and Adapter Review - Started leaks after one year Installing in a refrigerator made by Kenmore, probably from poor design of the plastic faucet.\n",
      "Reviews: Fl\n",
      "\n",
      "Product: Shark Industrial 25 FT Stainless Steel Braided Ice Maker Hose with 1/4\" Comp by 1/4\" Comp Connection\n",
      "Features Summary:\n",
      "I am currently working on summarizing the features of this product as well and will update my post accordingly!\n",
      "Positive Reviews Summary:\n",
      "Reviews: Highly Recommend This hose works very good for my application It is a perfect length and the connection points are solid They were shipped fast, no problems with tracking The only thing I didn't like was that they sent me 2 packs of fittings instead fo one<br />\n",
      "Reviews: Good Product Great product. Just what we needed to connect our ice maker hose from under the sink to a valve outside in the garage.<p>It is made with stainless steel and has reinforcing braided layers so it will not kink.<b><i></ i>.</ b\n",
      "Reviews: Shark Industrial 25 FT Stainless Steel Braised Ice Maker Hose With Comp/Male by Female Connections,10-Feet x.76-Inch (Pack of 3) This was a perfect match for what we needed and the price on Amazon is unbeatable !!! The shipping speed from US to Australia wasn't too bad either<br />\n",
      "Reviews: Great Product Good product I will be using this ice maker hose again, it does work well.  It came with all of my fittings for a great price.<b><i></ i>.</ b>\n",
      "Negative Reviews Summary:\n",
      "- Average Rating based on:: .\n",
      "\n",
      "Product: Refrigerator Lock,Fridge Lock with Keys,Freezer Lock and Refrigerator Lock for Child Proof(Fridge Lock-Black 1Pack)\n",
      "Features Summary:\n",
      "4) [Please tell us] how would describe this product 'Refrigerator Lock(Fridge Lock-Black/Freezer Lock):' in detail? ['Describe your company:Our factory was established more than ten years, We mainly produce safety padlocks and locking products.' ,‘We have many kinds of locks for choice:Door Security PadLock / Furniture Drawer Locker Safety Box DooPad Lock/Wardrobe Cabinet Safe Cupboard Slide File Cabinets GunSaferes 45L Fireproof Water-Resistant Carry Case Bag,etc.']\n",
      "‘Please tell us the size of this product: 'Refrigerator Lock(Fridge Lock)':' Please provide images and video to illustrate your answer? ['https://youtu[...]<jupyter_text>Step 2 - Ask Users for their contact detailsThe following questions will be asked if a user wants to purchase the item. If they do not wish, you may choose whether or how many times this question should appear.<NAME>: 'What is your name?': ['Your Name', '', ''],<jupyter_code># Step 2 - Ask Users for their contact details\n",
      "def askUserForContact(contact):   # A function that asks user to enter a value of type string.   \n",
      "\tif (contact == \"phone\" or str(\"\")==str\n",
      "Positive Reviews Summary:\n",
      "Reviews: Easy Installation This product is great! I’m so happy that i can protect my children from getting into all of our foods on our grocery list, and even items in the freezer like ice cream or other frozen snacks we have stored up there too…so far it’s been easy to install as well. Easy Installation I liked how simple this was! The instructions were clear enough that I didn’t need any help with installing them on my fridge and they worked very well for what i needed, which was keeping all of the kids from opening up our refrigerator everyday without permission or getting into anything we don' t want them to eat. They are quite easy as you can see in this video here: https :// v= 48QZyDj5BGg I would recommend these for anyone who has kids!\n",
      "Reviews: A Must Have For Every Family These locks were exactly what we needed at home, and they work great. They are easy to install (you have to drill a small hole in the back of your fridge so that it can be screwed on) but once you get used t o putting them there is no problem with installing or taking off these locks again!\n",
      "Reviews: A Must Have For Every Family These lock work great and are easy for me to install. I would recommend this product if anyone has a\n",
      "Negative Reviews Summary:\n",
      "Reviews: Easy. To install, I took apart an old keyless entry padlock that was very easy for me because I am handy with tools in general…and cut the wires coming out of this lock into two 3/8\" holes drilled into the back wall near the top and bottom edges (you can use a hole saw, but drill carefully to avoid damage or burrs on your metal surface).\n",
      "Reviews: It doesn't work. I have tried everything possible including cutting wires with scissors , it is not even sticky at all !!! Please fix this product . Doesn’T Work Sticking in the freezer lock didn’t seem to help any, but i will keep trying\n",
      "Reviews: It does nothing and doesn't stay on. I was excited that this worked with our new fridge because of reviews saying it did so we could put locks for small children without having a keyed door...but the one you sent didn’T work at all..we couldn;td even get to open it\n",
      "Reviews: It is not sticky enough. I tried and they came off within minutes when my child pushed them with her hand! Please fix this product or send me another replacement as I really need a fridge lock that would last for years without coming apart so easily 😞I had to use scissors on the wires, but it doesn't\n",
      "\n"
     ]
    }
   ],
   "source": [
    "category = categories[0]  # Choose the desired category via index\n",
    "top_n = 3  # Number of top products to include\n",
    "\n",
    "# Get the top products for the given category\n",
    "top_products = get_top_products(meta_clean, category, top_n)\n",
    "\n",
    "# Generate the final article\n",
    "final_article = generate_final_article(llm, top_products, reviews_clean)\n",
    "\n",
    "# Print the final article\n",
    "print(final_article)"
   ]
  }
 ],
 "metadata": {
  "kernelspec": {
   "display_name": "llm_torch",
   "language": "python",
   "name": "python3"
  },
  "language_info": {
   "codemirror_mode": {
    "name": "ipython",
    "version": 3
   },
   "file_extension": ".py",
   "mimetype": "text/x-python",
   "name": "python",
   "nbconvert_exporter": "python",
   "pygments_lexer": "ipython3",
   "version": "3.12.7"
  }
 },
 "nbformat": 4,
 "nbformat_minor": 5
}
